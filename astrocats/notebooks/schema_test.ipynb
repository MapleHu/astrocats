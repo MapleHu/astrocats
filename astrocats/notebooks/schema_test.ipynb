{
 "cells": [
  {
   "cell_type": "code",
   "execution_count": null,
   "metadata": {
    "ExecuteTime": {
     "end_time": "2017-10-11T01:50:52.382435Z",
     "start_time": "2017-10-11T01:50:50.279375Z"
    }
   },
   "outputs": [],
   "source": [
    "import astrocats\n",
    "import astrocats.supernovae\n",
    "import astrocats.supernovae.supernova\n",
    "from astrocats.catalog.utils.strings import dict_to_pretty_string\n",
    "import jsl\n",
    "\n",
    "from importlib import reload\n",
    "\n",
    "%load_ext autoreload\n",
    "%autoreload 2"
   ]
  },
  {
   "cell_type": "code",
   "execution_count": null,
   "metadata": {
    "ExecuteTime": {
     "end_time": "2017-10-11T01:29:13.505207Z",
     "start_time": "2017-10-11T01:29:13.382582Z"
    }
   },
   "outputs": [],
   "source": [
    "class Bot:\n",
    "    \n",
    "    def __init__(self, key=0):\n",
    "        if key == 0:\n",
    "            self.jsl_type = jsl.StringField()\n",
    "        elif key == 1:\n",
    "            self.jsl_type = jsl.BooleanField()\n",
    "        else:\n",
    "            self.jsl_type = jsl.OneOfField(\n",
    "                [jsl.ArrayField(jsl.StringField()), jsl.BooleanField()]\n",
    "            )\n",
    "            \n",
    "    def jsl(self):\n",
    "        \n",
    "        class JSL_Obj_B(jsl.Document):\n",
    "            b_content = self.jsl_type\n",
    "            \n",
    "        return JSL_Obj_B\n",
    "    \n",
    "    \n",
    "class Mid:\n",
    "    \n",
    "    def __init__(self):\n",
    "        self.items = [Bot(ii) for ii in range(3)]\n",
    "        \n",
    "    def jsl(self):\n",
    "        \n",
    "#         class JSL_Obj_M(jsl.Document):\n",
    "#             m_content_0 = jsl.DocumentField(self.items[0].jsl())\n",
    "#             m_content_1 = jsl.DocumentField(self.items[1].jsl())\n",
    "#             m_content_2 = jsl.DocumentField(self.items[2].jsl())\n",
    "\n",
    "#         jsl_content = {}\n",
    "#         for ii, item in enumerate(self.items):\n",
    "#             jsl_type = item.jsl()\n",
    "#                         if isinstance(jsl_type, jsl.Document) else jsl_type)\n",
    "#             jsl_content[ii] = jsl_type\n",
    "\n",
    "#         JSL_Obj_M = type('JSL_Obj_M', (jsl.Document,), jsl_content)\n",
    "\n",
    "        class JSL_Obj_M(jsl.Document):\n",
    "            pass\n",
    "\n",
    "        for ii, item in enumerate(self.items):\n",
    "            jsl_type = item.jsl()\n",
    "            jsl_type = jsl.DocumentField(jsl_type) if issubclass(jsl_type, jsl.Document) else jsl_type\n",
    "            JSL_Obj_M._fields[str(ii)] = jsl_type\n",
    "\n",
    "        return JSL_Obj_M\n",
    "    \n",
    "bot = Bot()\n",
    "print(dict_to_pretty_string(bot.jsl().get_schema()))\n",
    "\n",
    "print(\"\\n\\n\")\n",
    "\n",
    "mid = Mid()\n",
    "jsl_obj = mid.jsl()\n",
    "print(dict_to_pretty_string(jsl_obj.get_schema()))\n",
    "# print(jsl_obj)\n",
    "# print(type(jsl_obj))\n",
    "# print(repr(jsl_obj))"
   ]
  },
  {
   "cell_type": "code",
   "execution_count": null,
   "metadata": {
    "ExecuteTime": {
     "end_time": "2017-10-11T01:24:10.104650Z",
     "start_time": "2017-10-11T01:24:10.067819Z"
    }
   },
   "outputs": [],
   "source": [
    "jsl_obj._fields"
   ]
  },
  {
   "cell_type": "code",
   "execution_count": null,
   "metadata": {
    "ExecuteTime": {
     "end_time": "2017-10-11T00:18:42.660173Z",
     "start_time": "2017-10-11T00:18:42.624925Z"
    }
   },
   "outputs": [],
   "source": [
    "Directory.get_schema()"
   ]
  },
  {
   "cell_type": "code",
   "execution_count": null,
   "metadata": {
    "ExecuteTime": {
     "end_time": "2017-10-11T00:21:03.189779Z",
     "start_time": "2017-10-11T00:21:03.096743Z"
    }
   },
   "outputs": [],
   "source": [
    "class TEST(astrocats.catalog.key.KeyCollection):\n",
    "    NAME = astrocats.catalog.key.Key(\n",
    "        'name', astrocats.catalog.key.KEY_TYPES.STRING)\n",
    "\n",
    "    ONE = astrocats.catalog.key.Key(\n",
    "        \"one\", astrocats.catalog.key.KEY_TYPES.NUMERIC)\n",
    "\n",
    "    PHOTOMETRY = astrocats.catalog.key.Key(\n",
    "        \"photometry\", cat_class=astrocats.catalog.photometry.Photometry)\n",
    "\n",
    "    \n",
    "class Test(astrocats.catalog.entry.Entry):\n",
    "    \n",
    "    _KEYS = TEST\n",
    "    \n",
    "    def jsl(self):\n",
    "        \"\"\"Return JSL representation of class.\"\"\"\n",
    "        import jsl\n",
    "        key_names = self._KEYS.keys()\n",
    "        key_vals = self._KEYS.vals()\n",
    "        key_names = ['PHOTOMETRY']\n",
    "        key_vals = ['photometry']\n",
    "\n",
    "        # jsl_content = {kk: jsl.StringField(required=True) for kk in key_names}\n",
    "        # jsl_content = {vv: getattr(self._KEYS, kk).jsl()\n",
    "        #                for kk, vv in zip(key_names, key_vals)}\n",
    "        jsl_content = {}\n",
    "        for kk, vv in zip(key_names, key_vals):\n",
    "            print(\"\\nentry: \", kk, vv)\n",
    "            _temp = getattr(self._KEYS, kk)\n",
    "            # print(\"entry.jsl(): calling {}.jsl()\".format(type(_temp)))\n",
    "            _jsl_obj = _temp.jsl()\n",
    "            jsl_content[vv] = _jsl_obj\n",
    "            # print(vv, _jsl_obj)\n",
    "\n",
    "        # print(jsl_content)\n",
    "        jsl_doc = type('JSL_Doc_Entry', (jsl.Document,), jsl_content)\n",
    "        return jsl_doc\n"
   ]
  },
  {
   "cell_type": "code",
   "execution_count": null,
   "metadata": {
    "ExecuteTime": {
     "end_time": "2017-10-11T01:53:56.195178Z",
     "start_time": "2017-10-11T01:53:56.137264Z"
    },
    "scrolled": false
   },
   "outputs": [],
   "source": [
    "reload(astrocats.catalog.entry)\n",
    "reload(astrocats.catalog.key)\n",
    "reload(astrocats)\n",
    "\n",
    "SN = astrocats.supernovae.supernova.SUPERNOVA()\n",
    "ent = astrocats.catalog.entry.Entry()\n",
    "\n",
    "jsl_obj = ent.jsl()\n",
    "schema = jsl_obj.get_schema()\n",
    "# print(dict_to_pretty_string(schema))\n",
    "import json\n",
    "json.dump(schema, open('test.json', 'w'), indent=4, separators=(',', ':'), ensure_ascii=False)"
   ]
  },
  {
   "cell_type": "code",
   "execution_count": null,
   "metadata": {
    "ExecuteTime": {
     "end_time": "2017-10-11T01:53:46.838021Z",
     "start_time": "2017-10-11T01:53:46.796705Z"
    },
    "collapsed": true
   },
   "outputs": [],
   "source": [
    "dict_to_pretty_string??"
   ]
  },
  {
   "cell_type": "code",
   "execution_count": null,
   "metadata": {
    "ExecuteTime": {
     "end_time": "2017-10-11T01:43:17.872239Z",
     "start_time": "2017-10-11T01:43:17.836968Z"
    }
   },
   "outputs": [],
   "source": [
    "sf = jsl.StringField()\n",
    "print(sf, type(sf))\n",
    "isinstance(sf, jsl.Document)"
   ]
  }
 ],
 "metadata": {
  "kernelspec": {
   "display_name": "Python [default]",
   "language": "python",
   "name": "python3"
  },
  "language_info": {
   "codemirror_mode": {
    "name": "ipython",
    "version": 3
   },
   "file_extension": ".py",
   "mimetype": "text/x-python",
   "name": "python",
   "nbconvert_exporter": "python",
   "pygments_lexer": "ipython3",
   "version": "3.5.4"
  },
  "toc": {
   "nav_menu": {},
   "number_sections": true,
   "sideBar": true,
   "skip_h1_title": false,
   "toc_cell": false,
   "toc_position": {},
   "toc_section_display": "block",
   "toc_window_display": true
  }
 },
 "nbformat": 4,
 "nbformat_minor": 2
}
